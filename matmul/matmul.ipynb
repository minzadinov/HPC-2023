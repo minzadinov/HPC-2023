{
  "nbformat": 4,
  "nbformat_minor": 0,
  "metadata": {
    "colab": {
      "provenance": [],
      "gpuType": "T4",
      "authorship_tag": "ABX9TyObo4wSyXbgDXcCoBl3EJWW",
      "include_colab_link": true
    },
    "kernelspec": {
      "name": "python3",
      "display_name": "Python 3"
    },
    "language_info": {
      "name": "python"
    },
    "accelerator": "GPU"
  },
  "cells": [
    {
      "cell_type": "markdown",
      "metadata": {
        "id": "view-in-github",
        "colab_type": "text"
      },
      "source": [
        "<a href=\"https://colab.research.google.com/github/minzadinov/HPC-2023/blob/main/matmul/matmul.ipynb\" target=\"_parent\"><img src=\"https://colab.research.google.com/assets/colab-badge.svg\" alt=\"Open In Colab\"/></a>"
      ]
    },
    {
      "cell_type": "code",
      "execution_count": 1,
      "metadata": {
        "id": "-_9OJRl48om6"
      },
      "outputs": [],
      "source": [
        "import torch\n",
        "import numpy as np\n",
        "import time\n",
        "import math\n",
        "import matplotlib.pyplot as plt\n",
        "from functools import partial"
      ]
    },
    {
      "cell_type": "markdown",
      "source": [
        "Генерация списка кортежей матриц nxn разной величины."
      ],
      "metadata": {
        "id": "mvfUl-DCuryI"
      }
    },
    {
      "cell_type": "code",
      "source": [
        "def matrix_gen(min_n, max_n, step):\n",
        "  mat_tuple = lambda n: (torch.tensor(np.random.randn(n, n)),torch.tensor(np.random.randn(n, n)))\n",
        "  return list(map(mat_tuple, list(range(min_n, max_n, step))))"
      ],
      "metadata": {
        "id": "2BGIxJWT8wwo"
      },
      "execution_count": 2,
      "outputs": []
    },
    {
      "cell_type": "markdown",
      "source": [
        "Перемножение матриц в кортеже."
      ],
      "metadata": {
        "id": "0EneT8WQvF-Y"
      }
    },
    {
      "cell_type": "code",
      "source": [
        "def matmul_with_time (mat_tuple, device):\n",
        "  dev = torch.device('cpu') if torch.cuda.is_available()==False else device\n",
        "  a=mat_tuple[0].to(dev)\n",
        "  b=mat_tuple[1].to(dev)\n",
        "  start_time = time.time()\n",
        "  result=torch.matmul(a,b)\n",
        "  end_time = time.time()\n",
        "  execution_time = end_time - start_time\n",
        "  return (result, execution_time)"
      ],
      "metadata": {
        "id": "bFD3QdLKHPA2"
      },
      "execution_count": 3,
      "outputs": []
    },
    {
      "cell_type": "markdown",
      "source": [
        "Функция получения времени выполнения по размеру матрицы"
      ],
      "metadata": {
        "id": "o5rOHPzMvjox"
      }
    },
    {
      "cell_type": "code",
      "source": [
        "def get_time_from_size (n, mats):\n",
        "  for i in range(len(mats)):\n",
        "    if math.sqrt(mats[i][0].nelement()) == n:\n",
        "      return mats[i][1]"
      ],
      "metadata": {
        "id": "u6LoH9gJaDq8"
      },
      "execution_count": 4,
      "outputs": []
    },
    {
      "cell_type": "markdown",
      "source": [
        "Проверка на идентичность матриц, перемноженных разными способами"
      ],
      "metadata": {
        "id": "XesQldXVvzBd"
      }
    },
    {
      "cell_type": "code",
      "source": [
        "def error_check (cpu, gpu, err):\n",
        "  sub = lambda i: torch.subtract(cpu[i][0], gpu[i][0].to(torch.device('cpu')))\n",
        "  isErr= False\n",
        "  for i in range(len(cpu)):\n",
        "    if sub(i).nansum() > err:\n",
        "      print('Error with number ', i, ' matrix in list' )\n",
        "      isErr=True\n",
        "  if isErr==False:\n",
        "    print('No errors')\n",
        "  return None"
      ],
      "metadata": {
        "id": "UPSbK2HvTZop"
      },
      "execution_count": 5,
      "outputs": []
    },
    {
      "cell_type": "markdown",
      "source": [
        "Генерация, перемножение и проверка"
      ],
      "metadata": {
        "id": "CsHglJVWv6fO"
      }
    },
    {
      "cell_type": "code",
      "source": [
        "NMAX=2000\n",
        "NMIN=100\n",
        "STEP=100"
      ],
      "metadata": {
        "id": "8AxAUE9oh6mt"
      },
      "execution_count": 10,
      "outputs": []
    },
    {
      "cell_type": "code",
      "source": [
        "mats=matrix_gen(NMIN,NMAX,STEP)\n",
        "cpu_mats=list(map(partial(matmul_with_time, device = torch.device('cpu')),mats))\n",
        "gpu_mats=list(map(partial(matmul_with_time, device = torch.device('cuda')),mats))"
      ],
      "metadata": {
        "id": "WIXyIw1hG1j3"
      },
      "execution_count": 14,
      "outputs": []
    },
    {
      "cell_type": "code",
      "source": [
        "error_check(cpu_mats, gpu_mats, 0.001)"
      ],
      "metadata": {
        "colab": {
          "base_uri": "https://localhost:8080/"
        },
        "id": "sr7SxlFvre6Y",
        "outputId": "ad009175-da4a-4d0e-c525-be2c129e6133"
      },
      "execution_count": 16,
      "outputs": [
        {
          "output_type": "stream",
          "name": "stdout",
          "text": [
            "No errors\n"
          ]
        }
      ]
    },
    {
      "cell_type": "code",
      "source": [
        "size = list(range(NMIN, NMAX, STEP))\n",
        "cpu_time = list(map(partial(get_time_from_size, mats=cpu_mats), size))\n",
        "gpu_time = list(map(partial(get_time_from_size, mats=gpu_mats), size))\n",
        "plt.plot(size, cpu_time, 'r')\n",
        "plt.plot(size, gpu_time, 'b')\n",
        "plt.show()"
      ],
      "metadata": {
        "colab": {
          "base_uri": "https://localhost:8080/",
          "height": 430
        },
        "id": "N0uWhkACCr_K",
        "outputId": "5fdfe393-05c6-459e-94b0-87d006d9a98e"
      },
      "execution_count": 15,
      "outputs": [
        {
          "output_type": "display_data",
          "data": {
            "text/plain": [
              "<Figure size 640x480 with 1 Axes>"
            ],
            "image/png": "[encoded data removed]"
          },
          "metadata": {}
        }
      ]
    }
  ]
}