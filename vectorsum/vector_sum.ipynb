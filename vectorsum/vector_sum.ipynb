{
  "nbformat": 4,
  "nbformat_minor": 0,
  "metadata": {
    "colab": {
      "provenance": [],
      "gpuType": "T4",
      "authorship_tag": "ABX9TyMCMrXV2LMBAbBpCwJZQ7Ri",
      "include_colab_link": true
    },
    "kernelspec": {
      "name": "python3",
      "display_name": "Python 3"
    },
    "language_info": {
      "name": "python"
    },
    "accelerator": "GPU"
  },
  "cells": [
    {
      "cell_type": "markdown",
      "metadata": {
        "id": "view-in-github",
        "colab_type": "text"
      },
      "source": [
        "<a href=\"https://colab.research.google.com/github/minzadinov/HPC-2023/blob/main/vectorsum/vector_sum.ipynb\" target=\"_parent\"><img src=\"https://colab.research.google.com/assets/colab-badge.svg\" alt=\"Open In Colab\"/></a>"
      ]
    },
    {
      "cell_type": "code",
      "execution_count": 1,
      "metadata": {
        "id": "-_9OJRl48om6"
      },
      "outputs": [],
      "source": [
        "import torch\n",
        "import numpy as np\n",
        "import time\n",
        "import math\n",
        "import matplotlib.pyplot as plt\n",
        "from functools import partial"
      ]
    },
    {
      "cell_type": "markdown",
      "source": [
        "Генерация векторов длины n."
      ],
      "metadata": {
        "id": "mvfUl-DCuryI"
      }
    },
    {
      "cell_type": "code",
      "source": [
        "def vector_gen(min_n, max_n, step):\n",
        "  make_vector = lambda n: (torch.tensor(np.random.randn(n)))\n",
        "  return list(map(make_vector, list(range(min_n, max_n, step))))"
      ],
      "metadata": {
        "id": "2BGIxJWT8wwo"
      },
      "execution_count": 2,
      "outputs": []
    },
    {
      "cell_type": "markdown",
      "source": [
        "Сложение элементов вектора."
      ],
      "metadata": {
        "id": "0EneT8WQvF-Y"
      }
    },
    {
      "cell_type": "code",
      "source": [
        "def vector_sum_with_time (vector, device):\n",
        "  dev = torch.device('cpu') if torch.cuda.is_available()==False else device\n",
        "  vector=vector.to(dev)\n",
        "  start_time = time.time()\n",
        "  sum = torch.sum(vector)\n",
        "  end_time = time.time()\n",
        "  execution_time = end_time - start_time\n",
        "  n = vector.size(dim=0)\n",
        "  return (n, sum, execution_time)"
      ],
      "metadata": {
        "id": "bFD3QdLKHPA2"
      },
      "execution_count": 3,
      "outputs": []
    },
    {
      "cell_type": "markdown",
      "source": [
        "Функция получения времени выполнения по размеру вектора"
      ],
      "metadata": {
        "id": "o5rOHPzMvjox"
      }
    },
    {
      "cell_type": "code",
      "source": [
        "def get_time_from_size (result, n):\n",
        "  for i in result:\n",
        "    if i[0] == n:\n",
        "      return i[2]"
      ],
      "metadata": {
        "id": "u6LoH9gJaDq8"
      },
      "execution_count": 4,
      "outputs": []
    },
    {
      "cell_type": "markdown",
      "source": [
        "Проверка на идентичность векторов, сложенных разными способами"
      ],
      "metadata": {
        "id": "XesQldXVvzBd"
      }
    },
    {
      "cell_type": "code",
      "source": [
        "def error_check (cpu, gpu, err):\n",
        "  sub = lambda i: torch.subtract(cpu[i][1], gpu[i][1].to(torch.device('cpu')))\n",
        "  isErr= False\n",
        "  for i in range(len(cpu)):\n",
        "    if sub(i).item() > err:\n",
        "      print('Error with number ', i, ' vector in list' )\n",
        "      isErr=True\n",
        "  if isErr==False:\n",
        "    print('No errors')\n",
        "  return None"
      ],
      "metadata": {
        "id": "UPSbK2HvTZop"
      },
      "execution_count": 5,
      "outputs": []
    },
    {
      "cell_type": "markdown",
      "source": [
        "Генерация, сложение и проверка"
      ],
      "metadata": {
        "id": "CsHglJVWv6fO"
      }
    },
    {
      "cell_type": "code",
      "source": [
        "NMAX=1000000\n",
        "NMIN=1000\n",
        "STEP=1000"
      ],
      "metadata": {
        "id": "8AxAUE9oh6mt"
      },
      "execution_count": 6,
      "outputs": []
    },
    {
      "cell_type": "code",
      "source": [
        "vector_list=vector_gen(NMIN,NMAX,STEP)\n",
        "cpu_sum=list(map(partial(vector_sum_with_time, device = torch.device('cpu')), vector_list))\n",
        "gpu_sum=list(map(partial(vector_sum_with_time, device = torch.device('cuda')), vector_list))"
      ],
      "metadata": {
        "id": "WIXyIw1hG1j3"
      },
      "execution_count": 7,
      "outputs": []
    },
    {
      "cell_type": "code",
      "source": [
        "error_check(cpu_sum, gpu_sum, 0.001)"
      ],
      "metadata": {
        "colab": {
          "base_uri": "https://localhost:8080/"
        },
        "id": "sr7SxlFvre6Y",
        "outputId": "1f9e5eff-0a56-435d-e7a7-bbb64a6f2dc2"
      },
      "execution_count": 8,
      "outputs": [
        {
          "output_type": "stream",
          "name": "stdout",
          "text": [
            "No errors\n"
          ]
        }
      ]
    },
    {
      "cell_type": "code",
      "source": [
        "size = list(range(NMIN, NMAX, STEP))\n",
        "cpu_time = list(map(partial(get_time_from_size, cpu_sum), size))\n",
        "gpu_time = list(map(partial(get_time_from_size, gpu_sum), size))\n",
        "plt.plot(size, cpu_time, 'r')\n",
        "plt.plot(size, gpu_time, 'b')\n",
        "plt.show()"
      ],
      "metadata": {
        "colab": {
          "base_uri": "https://localhost:8080/",
          "height": 448
        },
        "id": "N0uWhkACCr_K",
        "outputId": "8c28c362-4981-4321-99fd-139e7d2b0a5e"
      },
      "execution_count": 10,
      "outputs": [
        {
          "output_type": "display_data",
          "data": {
            "text/plain": [
              "<Figure size 640x480 with 1 Axes>"
            ],
            "image/png": "[encoded data removed]"
          },
          "metadata": {}
        }
      ]
    }
  ]
}